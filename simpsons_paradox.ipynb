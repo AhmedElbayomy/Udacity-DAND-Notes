{
 "cells": [
  {
   "cell_type": "markdown",
   "metadata": {
    "collapsed": true
   },
   "source": [
    "# Simpson's Paradox\n",
    "Use `admission_data.csv` for this exercise."
   ]
  },
  {
   "cell_type": "code",
   "execution_count": 11,
   "metadata": {},
   "outputs": [
    {
     "data": {
      "text/html": [
       "<div>\n",
       "<style>\n",
       "    .dataframe thead tr:only-child th {\n",
       "        text-align: right;\n",
       "    }\n",
       "\n",
       "    .dataframe thead th {\n",
       "        text-align: left;\n",
       "    }\n",
       "\n",
       "    .dataframe tbody tr th {\n",
       "        vertical-align: top;\n",
       "    }\n",
       "</style>\n",
       "<table border=\"1\" class=\"dataframe\">\n",
       "  <thead>\n",
       "    <tr style=\"text-align: right;\">\n",
       "      <th></th>\n",
       "      <th>student_id</th>\n",
       "      <th>gender</th>\n",
       "      <th>major</th>\n",
       "      <th>admitted</th>\n",
       "    </tr>\n",
       "  </thead>\n",
       "  <tbody>\n",
       "    <tr>\n",
       "      <th>0</th>\n",
       "      <td>35377</td>\n",
       "      <td>female</td>\n",
       "      <td>Chemistry</td>\n",
       "      <td>False</td>\n",
       "    </tr>\n",
       "    <tr>\n",
       "      <th>1</th>\n",
       "      <td>56105</td>\n",
       "      <td>male</td>\n",
       "      <td>Physics</td>\n",
       "      <td>True</td>\n",
       "    </tr>\n",
       "    <tr>\n",
       "      <th>2</th>\n",
       "      <td>31441</td>\n",
       "      <td>female</td>\n",
       "      <td>Chemistry</td>\n",
       "      <td>False</td>\n",
       "    </tr>\n",
       "    <tr>\n",
       "      <th>3</th>\n",
       "      <td>51765</td>\n",
       "      <td>male</td>\n",
       "      <td>Physics</td>\n",
       "      <td>True</td>\n",
       "    </tr>\n",
       "    <tr>\n",
       "      <th>4</th>\n",
       "      <td>53714</td>\n",
       "      <td>female</td>\n",
       "      <td>Physics</td>\n",
       "      <td>True</td>\n",
       "    </tr>\n",
       "  </tbody>\n",
       "</table>\n",
       "</div>"
      ],
      "text/plain": [
       "   student_id  gender      major  admitted\n",
       "0       35377  female  Chemistry     False\n",
       "1       56105    male    Physics      True\n",
       "2       31441  female  Chemistry     False\n",
       "3       51765    male    Physics      True\n",
       "4       53714  female    Physics      True"
      ]
     },
     "execution_count": 11,
     "metadata": {},
     "output_type": "execute_result"
    }
   ],
   "source": [
    "# Load and view first few lines of dataset\n",
    "import pandas as pd\n",
    "import numpy as np\n",
    "import random\n",
    "import matplotlib.pyplot as plt\n",
    "%matplotlib inline\n",
    "\n",
    "my_df = pd.read_csv('admission_data.csv')\n",
    "my_df.head()"
   ]
  },
  {
   "cell_type": "code",
   "execution_count": 2,
   "metadata": {},
   "outputs": [
    {
     "name": "stdout",
     "output_type": "stream",
     "text": [
      "<class 'pandas.core.frame.DataFrame'>\n",
      "RangeIndex: 500 entries, 0 to 499\n",
      "Data columns (total 4 columns):\n",
      "student_id    500 non-null int64\n",
      "gender        500 non-null object\n",
      "major         500 non-null object\n",
      "admitted      500 non-null bool\n",
      "dtypes: bool(1), int64(1), object(2)\n",
      "memory usage: 12.3+ KB\n"
     ]
    }
   ],
   "source": [
    "my_df.info()"
   ]
  },
  {
   "cell_type": "markdown",
   "metadata": {},
   "source": [
    "###  Proportion and admission rate for each gender"
   ]
  },
  {
   "cell_type": "code",
   "execution_count": 7,
   "metadata": {},
   "outputs": [
    {
     "data": {
      "text/plain": [
       "female    257\n",
       "male      243\n",
       "Name: gender, dtype: int64"
      ]
     },
     "execution_count": 7,
     "metadata": {},
     "output_type": "execute_result"
    }
   ],
   "source": [
    "gender_count = my_df['gender'].value_counts()\n",
    "gender_total = my_df['gender'].count()\n",
    "gender_count\n"
   ]
  },
  {
   "cell_type": "code",
   "execution_count": 8,
   "metadata": {},
   "outputs": [
    {
     "data": {
      "text/plain": [
       "500"
      ]
     },
     "execution_count": 8,
     "metadata": {},
     "output_type": "execute_result"
    }
   ],
   "source": [
    "gender_total"
   ]
  },
  {
   "cell_type": "code",
   "execution_count": 9,
   "metadata": {},
   "outputs": [
    {
     "name": "stdout",
     "output_type": "stream",
     "text": [
      "Proportion of females is 51.4%\n",
      "Proportion of females is 0.514%\n"
     ]
    }
   ],
   "source": [
    "# Proportion of students that are female\n",
    "print(\"Proportion of females is {}%\".format(100*gender_count[0]/gender_total))\n",
    "print(\"Proportion of females is {}%\".format(gender_count[0]/gender_total))\n",
    "\n",
    "\n"
   ]
  },
  {
   "cell_type": "code",
   "execution_count": 10,
   "metadata": {},
   "outputs": [
    {
     "name": "stdout",
     "output_type": "stream",
     "text": [
      "Proportion of males is 48.6%\n",
      "Proportion of males is 0.486%\n"
     ]
    }
   ],
   "source": [
    "# Proportion of students that are male\n",
    "\n",
    "print(\"Proportion of males is {}%\".format(100*gender_count[1]/gender_total))\n",
    "print(\"Proportion of males is {}%\".format(gender_count[1]/gender_total))"
   ]
  },
  {
   "cell_type": "code",
   "execution_count": 13,
   "metadata": {
    "scrolled": true
   },
   "outputs": [
    {
     "data": {
      "text/plain": [
       "gender  admitted\n",
       "female  False       183\n",
       "        True         74\n",
       "male    False       125\n",
       "        True        118\n",
       "Name: admitted, dtype: int64"
      ]
     },
     "execution_count": 13,
     "metadata": {},
     "output_type": "execute_result"
    }
   ],
   "source": [
    "#To view statistics based on gender, we group by gender variable\n",
    "# Next we use value_counts() function to see the numbers\n",
    "my_df.groupby('gender')['admitted'].value_counts()"
   ]
  },
  {
   "cell_type": "code",
   "execution_count": 15,
   "metadata": {},
   "outputs": [
    {
     "name": "stdout",
     "output_type": "stream",
     "text": [
      "Number of female students are 257\n"
     ]
    }
   ],
   "source": [
    "# count of females\n",
    "# https://chrisalbon.com/python/pandas_selecting_rows_on_conditions.html\n",
    "female_df = my_df['gender'] == \"female\"\n",
    "female_total = sum(female_df)\n",
    "print(\"Number of female students are {}\".format(female_total))\n"
   ]
  },
  {
   "cell_type": "code",
   "execution_count": 16,
   "metadata": {},
   "outputs": [
    {
     "name": "stdout",
     "output_type": "stream",
     "text": [
      "Female admission rate is 29.0%\n"
     ]
    }
   ],
   "source": [
    "# Admission rate for females\n",
    "female_admin_rate = 100* 74/female_total\n",
    "print(\"Female admission rate is {}%\".format(round(female_admin_rate),2))\n",
    "\n"
   ]
  },
  {
   "cell_type": "code",
   "execution_count": 18,
   "metadata": {},
   "outputs": [
    {
     "name": "stdout",
     "output_type": "stream",
     "text": [
      "Number of male students are 243\n"
     ]
    }
   ],
   "source": [
    "#count of males\n",
    "male_df = my_df['gender'] == \"male\"\n",
    "male_total = sum(male_df)\n",
    "print(\"Number of male students are {}\".format(male_total))"
   ]
  },
  {
   "cell_type": "code",
   "execution_count": 19,
   "metadata": {},
   "outputs": [
    {
     "name": "stdout",
     "output_type": "stream",
     "text": [
      "Male admission rate is 48.56%\n"
     ]
    }
   ],
   "source": [
    "# Admission rate for males\n",
    "male_admin_rate = 100* 118/male_total\n",
    "print(\"Male admission rate is {}%\".format(round(male_admin_rate,2)))\n"
   ]
  },
  {
   "cell_type": "code",
   "execution_count": null,
   "metadata": {},
   "outputs": [],
   "source": []
  },
  {
   "cell_type": "markdown",
   "metadata": {},
   "source": [
    "### Proportion and admission rate for physics majors of each gender"
   ]
  },
  {
   "cell_type": "code",
   "execution_count": 20,
   "metadata": {},
   "outputs": [
    {
     "name": "stdout",
     "output_type": "stream",
     "text": [
      "<class 'pandas.core.frame.DataFrame'>\n",
      "MultiIndex: 4 entries, (Chemistry, female) to (Physics, male)\n",
      "Data columns (total 8 columns):\n",
      "(student_id, count)    4 non-null float64\n",
      "(student_id, mean)     4 non-null float64\n",
      "(student_id, std)      4 non-null float64\n",
      "(student_id, min)      4 non-null float64\n",
      "(student_id, 25%)      4 non-null float64\n",
      "(student_id, 50%)      4 non-null float64\n",
      "(student_id, 75%)      4 non-null float64\n",
      "(student_id, max)      4 non-null float64\n",
      "dtypes: float64(8)\n",
      "memory usage: 405.0+ bytes\n"
     ]
    }
   ],
   "source": [
    "# group by major and gender to get counts of students \n",
    "major_gender_counts = my_df.groupby(['major', 'gender']).describe()\n",
    "major_gender_counts.info()\n",
    "\n"
   ]
  },
  {
   "cell_type": "code",
   "execution_count": 23,
   "metadata": {},
   "outputs": [
    {
     "name": "stdout",
     "output_type": "stream",
     "text": [
      "Number of females with Physics major is 31\n",
      "Proportion of female candidates in Physics is 12.06%\n"
     ]
    }
   ],
   "source": [
    "# What proportion of female students are majoring in physics?\n",
    "# First, get count of females in Physics major \n",
    "fem_phy = len(my_df.loc[(my_df['gender'] == 'female') & (my_df['major'] == 'Physics')])\n",
    "print(\"Number of females with Physics major is {}\".format(fem_phy))\n",
    "\n",
    "#now evaluate proportion of female candidates in Phsics\n",
    "print(\"Proportion of female candidates in Physics is {}%\".format(round((fem_phy*100/female_total),2)))"
   ]
  },
  {
   "cell_type": "code",
   "execution_count": 24,
   "metadata": {},
   "outputs": [
    {
     "name": "stdout",
     "output_type": "stream",
     "text": [
      "Number of males with Physics major is 225\n",
      "Proportion of male candidates in Physics is 92.59%\n"
     ]
    }
   ],
   "source": [
    "# What proportion of male students are majoring in physics?\n",
    "# Frst,get count of males in Physics major \n",
    "m_phy = len(my_df.loc[(my_df['gender'] == 'male') & (my_df['major'] == 'Physics')])\n",
    "print(\"Number of males with Physics major is {}\".format(m_phy))\n",
    "\n",
    "#now evaluate proportion of male candidates in Physics\n",
    "print(\"Proportion of male candidates in Physics is {}%\".format(round((m_phy*100/male_total),2)))\n",
    "\n"
   ]
  },
  {
   "cell_type": "code",
   "execution_count": 26,
   "metadata": {},
   "outputs": [
    {
     "name": "stdout",
     "output_type": "stream",
     "text": [
      "Proportion of female candidates admitted in Physics is 74.19%\n"
     ]
    }
   ],
   "source": [
    "# Admission rate for female physics majors\n",
    "# compute count of females in Physics who got admitted\n",
    "fem_phy_admit = len(my_df.loc[(my_df['gender'] == 'female') \n",
    "                           & (my_df['major'] == 'Physics') \n",
    "                           & (my_df['admitted'] == True)])\n",
    "\n",
    "#now evaluate proportion of admitted female candidates in Phsics\n",
    "print(\"Proportion of female candidates admitted in Physics is {}%\".format(round((fem_phy_admit*100/fem_phy),2)))\n",
    "\n"
   ]
  },
  {
   "cell_type": "code",
   "execution_count": 27,
   "metadata": {},
   "outputs": [
    {
     "name": "stdout",
     "output_type": "stream",
     "text": [
      "Proportion of male candidates admitted in Physics is 51.56%\n"
     ]
    }
   ],
   "source": [
    "# Admission rate for male physics majors\n",
    "# compute count of females in Physics who got admitted\n",
    "m_phy_admit = len(my_df.loc[(my_df['gender'] == 'male') \n",
    "                           & (my_df['major'] == 'Physics') \n",
    "                           & (my_df['admitted'] == True)])\n",
    "\n",
    "#now evaluate proportion of admitted male candidates in Phsics\n",
    "print(\"Proportion of male candidates admitted in Physics is {}%\".format(round((m_phy_admit*100/m_phy),2)))\n",
    "\n"
   ]
  },
  {
   "cell_type": "markdown",
   "metadata": {},
   "source": [
    "### Proportion and admission rate for chemistry majors of each gender"
   ]
  },
  {
   "cell_type": "code",
   "execution_count": 28,
   "metadata": {},
   "outputs": [
    {
     "name": "stdout",
     "output_type": "stream",
     "text": [
      "Number of females with Chemistry major is 226\n",
      "Proportion of female candidates in Chemistry is 87.94%\n"
     ]
    }
   ],
   "source": [
    "# What proportion of female students are majoring in chemistry?\n",
    "# First, get count of females in Chemistry major \n",
    "fem_chem = len(my_df.loc[(my_df['gender'] == 'female') & (my_df['major'] == 'Chemistry')])\n",
    "print(\"Number of females with Chemistry major is {}\".format(fem_chem))\n",
    "\n",
    "#now evaluate proportion of female candidates in Chemistry\n",
    "print(\"Proportion of female candidates in Chemistry is {}%\".format(round((fem_chem*100/female_total),2)))\n"
   ]
  },
  {
   "cell_type": "code",
   "execution_count": 29,
   "metadata": {},
   "outputs": [
    {
     "name": "stdout",
     "output_type": "stream",
     "text": [
      "Number of males with Chemistry major is 18\n",
      "Proportion of male candidates in Chemistry is 7.41%\n"
     ]
    }
   ],
   "source": [
    "# What proportion of male students are majoring in chemistry?\n",
    "# First, get count of females in Chemistry major \n",
    "m_chem = len(my_df.loc[(my_df['gender'] == 'male') & (my_df['major'] == 'Chemistry')])\n",
    "print(\"Number of males with Chemistry major is {}\".format(m_chem))\n",
    "\n",
    "#now evaluate proportion of male candidates in Chemistry\n",
    "print(\"Proportion of male candidates in Chemistry is {}%\".format(round((m_chem*100/male_total),2)))"
   ]
  },
  {
   "cell_type": "code",
   "execution_count": 30,
   "metadata": {},
   "outputs": [
    {
     "name": "stdout",
     "output_type": "stream",
     "text": [
      "Proportion of female candidates admitted in chemistry is 22.57%\n"
     ]
    }
   ],
   "source": [
    "# Admission rate for female chemistry majors\n",
    "# compute count of females in chemistry who got admitted\n",
    "fem_chem_admit = len(my_df.loc[(my_df['gender'] == 'female') \n",
    "                           & (my_df['major'] == 'Chemistry') \n",
    "                           & (my_df['admitted'] == True)])\n",
    "\n",
    "#now evaluate proportion of admitted female candidates in chemistry\n",
    "print(\"Proportion of female candidates admitted in chemistry is {}%\".format(round((fem_chem_admit*100/fem_chem),2)))\n"
   ]
  },
  {
   "cell_type": "code",
   "execution_count": 31,
   "metadata": {},
   "outputs": [
    {
     "name": "stdout",
     "output_type": "stream",
     "text": [
      "Proportion of male candidates admitted in chemistry is 11.11%\n"
     ]
    }
   ],
   "source": [
    "# Admission rate for male chemistry majors\n",
    "# compute count of males in chemistry who got admitted\n",
    "m_chem_admit = len(my_df.loc[(my_df['gender'] == 'male') \n",
    "                           & (my_df['major'] == 'Chemistry') \n",
    "                           & (my_df['admitted'] == True)])\n",
    "\n",
    "#now evaluate proportion of admitted male candidates in chemistry\n",
    "print(\"Proportion of male candidates admitted in chemistry is {}%\".format(round((m_chem_admit*100/m_chem),2)))\n"
   ]
  },
  {
   "cell_type": "markdown",
   "metadata": {},
   "source": [
    "### Admission rate for each major"
   ]
  },
  {
   "cell_type": "code",
   "execution_count": 32,
   "metadata": {},
   "outputs": [
    {
     "name": "stdout",
     "output_type": "stream",
     "text": [
      "Proportion of candidates admitted in Physics is 54.3%\n"
     ]
    }
   ],
   "source": [
    "# Admission rate for physics majors\n",
    "# compute count of students in Physics who got admitted\n",
    "phy_admit = len(my_df.loc[(my_df['major'] == 'Physics') \n",
    "                           & (my_df['admitted'] == True)])\n",
    "\n",
    "#now evaluate proportion of admitted candidates in Phsics\n",
    "print(\"Proportion of candidates admitted in Physics is {}%\".format(round((phy_admit*100/(fem_phy+m_phy)),2)))"
   ]
  },
  {
   "cell_type": "code",
   "execution_count": 33,
   "metadata": {},
   "outputs": [
    {
     "name": "stdout",
     "output_type": "stream",
     "text": [
      "Proportion of candidates admitted in Chemistry is 21.72%\n"
     ]
    }
   ],
   "source": [
    "# Admission rate for chemistry majors\n",
    "# compute count of students in Chemistry who got admitted\n",
    "chem_admit = len(my_df.loc[(my_df['major'] == 'Chemistry') \n",
    "                           & (my_df['admitted'] == True)])\n",
    "\n",
    "#now evaluate proportion of admitted candidates in Chemistry\n",
    "print(\"Proportion of candidates admitted in Chemistry is {}%\".format(round((chem_admit*100/(fem_chem+m_chem)),2)))\n"
   ]
  }
 ],
 "metadata": {
  "kernelspec": {
   "display_name": "Python 3",
   "language": "python",
   "name": "python3"
  },
  "language_info": {
   "codemirror_mode": {
    "name": "ipython",
    "version": 3
   },
   "file_extension": ".py",
   "mimetype": "text/x-python",
   "name": "python",
   "nbconvert_exporter": "python",
   "pygments_lexer": "ipython3",
   "version": "3.6.3"
  }
 },
 "nbformat": 4,
 "nbformat_minor": 2
}
